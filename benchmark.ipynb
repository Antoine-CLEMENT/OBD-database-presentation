{
 "cells": [
  {
   "cell_type": "markdown",
   "metadata": {},
   "source": [
    "# REDIS BENCHMARK"
   ]
  },
  {
   "cell_type": "markdown",
   "metadata": {},
   "source": [
    "## config REDIS"
   ]
  },
  {
   "cell_type": "code",
   "execution_count": 52,
   "metadata": {},
   "outputs": [
    {
     "data": {
      "text/plain": [
       "[]"
      ]
     },
     "execution_count": 52,
     "metadata": {},
     "output_type": "execute_result"
    }
   ],
   "source": [
    "#import redis\n",
    "import redis\n",
    "r = redis.Redis()\n",
    "#empties all previous keys\n",
    "r.flushall()\n",
    "#check there is no key anymore\n",
    "r.keys()"
   ]
  },
  {
   "cell_type": "markdown",
   "metadata": {},
   "source": [
    "## Import dataset in redis"
   ]
  },
  {
   "cell_type": "code",
   "execution_count": 53,
   "metadata": {},
   "outputs": [
    {
     "data": {
      "text/html": [
       "<div>\n",
       "<style scoped>\n",
       "    .dataframe tbody tr th:only-of-type {\n",
       "        vertical-align: middle;\n",
       "    }\n",
       "\n",
       "    .dataframe tbody tr th {\n",
       "        vertical-align: top;\n",
       "    }\n",
       "\n",
       "    .dataframe thead th {\n",
       "        text-align: right;\n",
       "    }\n",
       "</style>\n",
       "<table border=\"1\" class=\"dataframe\">\n",
       "  <thead>\n",
       "    <tr style=\"text-align: right;\">\n",
       "      <th></th>\n",
       "      <th>show_id</th>\n",
       "      <th>type</th>\n",
       "      <th>title</th>\n",
       "      <th>director</th>\n",
       "      <th>cast</th>\n",
       "      <th>country</th>\n",
       "      <th>date_added</th>\n",
       "      <th>release_year</th>\n",
       "      <th>rating</th>\n",
       "      <th>duration</th>\n",
       "      <th>listed_in</th>\n",
       "      <th>description</th>\n",
       "    </tr>\n",
       "  </thead>\n",
       "  <tbody>\n",
       "    <tr>\n",
       "      <th>0</th>\n",
       "      <td>s1</td>\n",
       "      <td>TV Show</td>\n",
       "      <td>3%</td>\n",
       "      <td>NaN</td>\n",
       "      <td>João Miguel, Bianca Comparato, Michel Gomes, R...</td>\n",
       "      <td>Brazil</td>\n",
       "      <td>August 14, 2020</td>\n",
       "      <td>2020</td>\n",
       "      <td>TV-MA</td>\n",
       "      <td>4 Seasons</td>\n",
       "      <td>International TV Shows, TV Dramas, TV Sci-Fi &amp;...</td>\n",
       "      <td>In a future where the elite inhabit an island ...</td>\n",
       "    </tr>\n",
       "    <tr>\n",
       "      <th>1</th>\n",
       "      <td>s2</td>\n",
       "      <td>Movie</td>\n",
       "      <td>7:19</td>\n",
       "      <td>Jorge Michel Grau</td>\n",
       "      <td>Demián Bichir, Héctor Bonilla, Oscar Serrano, ...</td>\n",
       "      <td>Mexico</td>\n",
       "      <td>December 23, 2016</td>\n",
       "      <td>2016</td>\n",
       "      <td>TV-MA</td>\n",
       "      <td>93 min</td>\n",
       "      <td>Dramas, International Movies</td>\n",
       "      <td>After a devastating earthquake hits Mexico Cit...</td>\n",
       "    </tr>\n",
       "    <tr>\n",
       "      <th>2</th>\n",
       "      <td>s3</td>\n",
       "      <td>Movie</td>\n",
       "      <td>23:59</td>\n",
       "      <td>Gilbert Chan</td>\n",
       "      <td>Tedd Chan, Stella Chung, Henley Hii, Lawrence ...</td>\n",
       "      <td>Singapore</td>\n",
       "      <td>December 20, 2018</td>\n",
       "      <td>2011</td>\n",
       "      <td>R</td>\n",
       "      <td>78 min</td>\n",
       "      <td>Horror Movies, International Movies</td>\n",
       "      <td>When an army recruit is found dead, his fellow...</td>\n",
       "    </tr>\n",
       "    <tr>\n",
       "      <th>3</th>\n",
       "      <td>s4</td>\n",
       "      <td>Movie</td>\n",
       "      <td>9</td>\n",
       "      <td>Shane Acker</td>\n",
       "      <td>Elijah Wood, John C. Reilly, Jennifer Connelly...</td>\n",
       "      <td>United States</td>\n",
       "      <td>November 16, 2017</td>\n",
       "      <td>2009</td>\n",
       "      <td>PG-13</td>\n",
       "      <td>80 min</td>\n",
       "      <td>Action &amp; Adventure, Independent Movies, Sci-Fi...</td>\n",
       "      <td>In a postapocalyptic world, rag-doll robots hi...</td>\n",
       "    </tr>\n",
       "    <tr>\n",
       "      <th>4</th>\n",
       "      <td>s5</td>\n",
       "      <td>Movie</td>\n",
       "      <td>21</td>\n",
       "      <td>Robert Luketic</td>\n",
       "      <td>Jim Sturgess, Kevin Spacey, Kate Bosworth, Aar...</td>\n",
       "      <td>United States</td>\n",
       "      <td>January 1, 2020</td>\n",
       "      <td>2008</td>\n",
       "      <td>PG-13</td>\n",
       "      <td>123 min</td>\n",
       "      <td>Dramas</td>\n",
       "      <td>A brilliant group of students become card-coun...</td>\n",
       "    </tr>\n",
       "  </tbody>\n",
       "</table>\n",
       "</div>"
      ],
      "text/plain": [
       "  show_id     type  title           director  \\\n",
       "0      s1  TV Show     3%                NaN   \n",
       "1      s2    Movie   7:19  Jorge Michel Grau   \n",
       "2      s3    Movie  23:59       Gilbert Chan   \n",
       "3      s4    Movie      9        Shane Acker   \n",
       "4      s5    Movie     21     Robert Luketic   \n",
       "\n",
       "                                                cast        country  \\\n",
       "0  João Miguel, Bianca Comparato, Michel Gomes, R...         Brazil   \n",
       "1  Demián Bichir, Héctor Bonilla, Oscar Serrano, ...         Mexico   \n",
       "2  Tedd Chan, Stella Chung, Henley Hii, Lawrence ...      Singapore   \n",
       "3  Elijah Wood, John C. Reilly, Jennifer Connelly...  United States   \n",
       "4  Jim Sturgess, Kevin Spacey, Kate Bosworth, Aar...  United States   \n",
       "\n",
       "          date_added  release_year rating   duration  \\\n",
       "0    August 14, 2020          2020  TV-MA  4 Seasons   \n",
       "1  December 23, 2016          2016  TV-MA     93 min   \n",
       "2  December 20, 2018          2011      R     78 min   \n",
       "3  November 16, 2017          2009  PG-13     80 min   \n",
       "4    January 1, 2020          2008  PG-13    123 min   \n",
       "\n",
       "                                           listed_in  \\\n",
       "0  International TV Shows, TV Dramas, TV Sci-Fi &...   \n",
       "1                       Dramas, International Movies   \n",
       "2                Horror Movies, International Movies   \n",
       "3  Action & Adventure, Independent Movies, Sci-Fi...   \n",
       "4                                             Dramas   \n",
       "\n",
       "                                         description  \n",
       "0  In a future where the elite inhabit an island ...  \n",
       "1  After a devastating earthquake hits Mexico Cit...  \n",
       "2  When an army recruit is found dead, his fellow...  \n",
       "3  In a postapocalyptic world, rag-doll robots hi...  \n",
       "4  A brilliant group of students become card-coun...  "
      ]
     },
     "execution_count": 53,
     "metadata": {},
     "output_type": "execute_result"
    }
   ],
   "source": [
    "# import dataset\n",
    "import pandas as pd\n",
    "df = pd.read_csv(\"netflix_titles.csv\")\n",
    "df.head()\n"
   ]
  },
  {
   "cell_type": "code",
   "execution_count": 54,
   "metadata": {},
   "outputs": [
    {
     "name": "stderr",
     "output_type": "stream",
     "text": [
      "<ipython-input-54-e0ba77c3f72e>:3: DeprecationWarning: Pipeline.hmset() is deprecated. Use Pipeline.hset() instead.\n",
      "  pipe.hmset(row.show_id,row.to_dict())\n"
     ]
    }
   ],
   "source": [
    "with r.pipeline() as pipe:\n",
    "    for index, row in df.iterrows():\n",
    "        pipe.hmset(row.show_id,row.to_dict())\n",
    "    pipe.execute()\n"
   ]
  },
  {
   "cell_type": "markdown",
   "metadata": {},
   "source": [
    "## Benchmark function"
   ]
  },
  {
   "cell_type": "code",
   "execution_count": 55,
   "metadata": {},
   "outputs": [],
   "source": [
    "import time \n",
    "import matplotlib.pyplot as plt \n",
    "import numpy as np \n",
    "\n",
    "\n",
    "def benchmark(commands):\n",
    "    \"\"\"\n",
    "    Function to run run_nb times a list of command and display stats and boxplot\n",
    "    \"\"\"\n",
    "    run_nb=10\n",
    "    run_times=[]\n",
    "    medians=[]\n",
    "    for command_idx,command_name in enumerate(commands):\n",
    "        run_time=[]\n",
    "        for run in range(run_nb):\n",
    "            start_time=time.time()\n",
    "            commands[command_name]()\n",
    "            end_time=time.time()\n",
    "            run_time.append(end_time-start_time)\n",
    "        \n",
    "        median=np.median(np.array(run_time))\n",
    "        std=np.std(np.array(run_time))\n",
    "        mean=np.mean(np.array(run_time))\n",
    "        print(\"---- \"+str(command_idx)+\": \"+command_name+\" ----\")\n",
    "        print('average time:'+str(mean)+'\\n median:'+str(median)+'\\n std:'+str(std))\n",
    "        run_times.append(run_time)\n",
    "        medians.append(median)\n",
    "   \n",
    "    plt.boxplot(run_times)\n",
    "    plt.ylim(0, np.max(medians)*2)\n",
    "    plt.show()\n",
    "\n",
    "\n"
   ]
  },
  {
   "cell_type": "markdown",
   "metadata": {},
   "source": [
    "## Get a whole line"
   ]
  },
  {
   "cell_type": "code",
   "execution_count": 220,
   "metadata": {},
   "outputs": [
    {
     "name": "stdout",
     "output_type": "stream",
     "text": [
      "---- 0: hget same line ----\n",
      "average time:0.0002897146224975586\n",
      " median:0.00024509429931640625\n",
      " std:0.0004439781112290251\n",
      "---- 1: hget random line ----\n",
      "average time:0.00026602911949157715\n",
      " median:0.0002529621124267578\n",
      " std:0.00017940224462143872\n"
     ]
    },
    {
     "data": {
      "image/png": "[encoded data removed]",
      "text/plain": [
       "<Figure size 432x288 with 1 Axes>"
      ]
     },
     "metadata": {
      "needs_background": "light"
     },
     "output_type": "display_data"
    }
   ],
   "source": [
    "import random\n",
    "\n",
    "def hgetall():\n",
    "    r.hgetall('s7392')\n",
    "    \n",
    "\n",
    "def hgetallrandom():\n",
    "    i=random.randint(1,7787)\n",
    "    r.hgetall('s'+str(i))\n",
    "\n",
    "benchmark({'hget same line':hgetall,'hget random line':hgetallrandom})\n",
    "\n"
   ]
  },
  {
   "cell_type": "markdown",
   "metadata": {},
   "source": [
    "### With pipeline?"
   ]
  },
  {
   "cell_type": "code",
   "execution_count": 202,
   "metadata": {},
   "outputs": [
    {
     "name": "stdout",
     "output_type": "stream",
     "text": [
      "0.0002807837963104248\n"
     ]
    }
   ],
   "source": [
    "\n",
    "run_nb=1\n",
    "batch=10000\n",
    "start_time=time.time()\n",
    "for run in range (run_nb):\n",
    "    with r.pipeline() as pipe:\n",
    "        for i in range(batch):\n",
    "            r.hgetall('s7392')\n",
    "        pipe.execute()\n",
    "        \n",
    "mean=(time.time()-start_time)/(run_nb*batch)\n",
    "\n",
    "print(mean)"
   ]
  },
  {
   "cell_type": "markdown",
   "metadata": {},
   "source": [
    "## get show id"
   ]
  },
  {
   "cell_type": "code",
   "execution_count": 221,
   "metadata": {},
   "outputs": [
    {
     "name": "stdout",
     "output_type": "stream",
     "text": [
      "---- 0: get s1 ----\n",
      "average time:0.00015975871086120605\n",
      " median:0.00011968612670898438\n",
      " std:0.000497947532219968\n",
      "---- 1: get s4000 ----\n",
      "average time:0.00011732738018035888\n",
      " median:0.00011110305786132812\n",
      " std:0.00018866653273962524\n",
      "---- 2: get s7000 ----\n",
      "average time:0.00011274054050445557\n",
      " median:0.00011110305786132812\n",
      " std:4.605054127215788e-05\n"
     ]
    },
    {
     "data": {
      "image/png": "[encoded data removed]",
      "text/plain": [
       "<Figure size 432x288 with 1 Axes>"
      ]
     },
     "metadata": {
      "needs_background": "light"
     },
     "output_type": "display_data"
    }
   ],
   "source": [
    "def hmget1():\n",
    "    r.hmget('s1','show_id')\n",
    "def hmget4000():\n",
    "    r.hmget('s4000','show_id')\n",
    "def hmget7000():\n",
    "    r.hmget('s7000','show_id')\n",
    "\n",
    "benchmark({'get s1':hmget1,'get s4000':hmget4000,'get s7000':hmget7000})"
   ]
  },
  {
   "cell_type": "markdown",
   "metadata": {},
   "source": [
    "## Set a line"
   ]
  },
  {
   "cell_type": "code",
   "execution_count": 222,
   "metadata": {},
   "outputs": [
    {
     "name": "stderr",
     "output_type": "stream",
     "text": [
      "<ipython-input-222-52aa2a8b906d>:2: DeprecationWarning: Redis.hmset() is deprecated. Use Redis.hset() instead.\n",
      "  r.hmset('test',next(df.iterrows())[1].to_dict())\n"
     ]
    },
    {
     "name": "stdout",
     "output_type": "stream",
     "text": [
      "---- 0: hmset ----\n",
      "average time:0.003097118258476257\n",
      " median:0.002730131149291992\n",
      " std:0.001903121778900204\n"
     ]
    },
    {
     "data": {
      "image/png": "[encoded data removed]",
      "text/plain": [
       "<Figure size 432x288 with 1 Axes>"
      ]
     },
     "metadata": {
      "needs_background": "light"
     },
     "output_type": "display_data"
    }
   ],
   "source": [
    "\n",
    "def hmset():\n",
    "        r.hmset('test',next(df.iterrows())[1].to_dict())\n",
    "benchmark({'hmset':hmset})\n",
    "#r.keys()"
   ]
  },
  {
   "cell_type": "markdown",
   "metadata": {},
   "source": [
    "## With Pipeline?"
   ]
  },
  {
   "cell_type": "code",
   "execution_count": 223,
   "metadata": {},
   "outputs": [
    {
     "name": "stderr",
     "output_type": "stream",
     "text": [
      "<ipython-input-223-ed277b0f8646>:7: DeprecationWarning: Redis.hmset() is deprecated. Use Redis.hset() instead.\n",
      "  r.hmset('test',next(df.iterrows())[1].to_dict())\n"
     ]
    },
    {
     "name": "stdout",
     "output_type": "stream",
     "text": [
      "0.003294803190231323\n"
     ]
    }
   ],
   "source": [
    "\n",
    "run_nb=10\n",
    "batch=1000\n",
    "start_time=time.time()\n",
    "for run in range (run_nb):\n",
    "    with r.pipeline() as pipe:\n",
    "        for i in range(batch):\n",
    "            r.hmset('test',next(df.iterrows())[1].to_dict())\n",
    "        pipe.execute()\n",
    "        \n",
    "mean=(time.time()-start_time)/(run_nb*batch)\n",
    "\n",
    "print(mean)"
   ]
  },
  {
   "cell_type": "markdown",
   "metadata": {},
   "source": [
    "## Key exist? "
   ]
  },
  {
   "cell_type": "code",
   "execution_count": 48,
   "metadata": {},
   "outputs": [
    {
     "name": "stdout",
     "output_type": "stream",
     "text": [
      "---- 0: s1 ----\n",
      "average time:0.001210165023803711\n",
      " median:0.00016701221466064453\n",
      " std:0.003109073540187422\n",
      "---- 1: s2 ----\n",
      "average time:0.0007622718811035156\n",
      " median:0.00010645389556884766\n",
      " std:0.001934697827458227\n"
     ]
    },
    {
     "data": {
      "image/png": "[encoded data removed]",
      "text/plain": [
       "<Figure size 432x288 with 1 Axes>"
      ]
     },
     "metadata": {
      "needs_background": "light"
     },
     "output_type": "display_data"
    }
   ],
   "source": [
    "def exist1():\n",
    "    r.exists('s1')\n",
    "def exist7000():\n",
    "    r.exists('s7000')\n",
    "    \n",
    "benchmark({'s1':exist1,'s2':exist7000})"
   ]
  },
  {
   "cell_type": "code",
   "execution_count": 57,
   "metadata": {},
   "outputs": [
    {
     "name": "stdout",
     "output_type": "stream",
     "text": [
      "---- 0: dir exists head ----\n",
      "average time:1.08746497631073\n",
      " median:1.088720679283142\n",
      " std:0.042682785663858074\n",
      "---- 1: dir exists middle ----\n",
      "average time:0.6500355243682862\n",
      " median:0.6523808240890503\n",
      " std:0.026576931001824122\n",
      "---- 2: dir exists end ----\n",
      "average time:1.0630942344665528\n",
      " median:1.0606114864349365\n",
      " std:0.03508737631590128\n"
     ]
    },
    {
     "data": {
      "image/png": "[encoded data removed]",
      "text/plain": [
       "<Figure size 432x288 with 1 Axes>"
      ]
     },
     "metadata": {
      "needs_background": "light"
     },
     "output_type": "display_data"
    }
   ],
   "source": [
    "def director_exists_head():\n",
    "    for show_id in r.scan_iter():\n",
    "        if (r.hget(show_id,'director')==b'David Raynr'):\n",
    "            return\n",
    "            \n",
    "def director_exists_middle():\n",
    "    for show_id in r.scan_iter():\n",
    "        if (r.hget(show_id,'director')==b'Lance Daly'):\n",
    "            return\n",
    "            \n",
    "def director_exists_end():\n",
    "    for show_id in r.scan_iter():\n",
    "        if (r.hget(show_id,'director')==b'Emma Hatherley'):\n",
    "            return\n",
    "            \n",
    "director_exists_head()\n",
    "director_exists_middle()\n",
    "director_exists_end()\n",
    "\n",
    "benchmark({'dir exists head':director_exists_head,'dir exists middle':director_exists_middle,'dir exists end':director_exists_end})\n"
   ]
  },
  {
   "cell_type": "markdown",
   "metadata": {},
   "source": [
    "## INCRBY\n"
   ]
  },
  {
   "cell_type": "code",
   "execution_count": 42,
   "metadata": {},
   "outputs": [
    {
     "name": "stdout",
     "output_type": "stream",
     "text": [
      "b'2020'\n",
      "b'2021'\n"
     ]
    }
   ],
   "source": [
    "print(r.hget(\"s7001\",'release_year'))\n",
    "r.hincrby(\"s7001\",\"release_year\")\n",
    "print(r.hget(\"s7001\",'release_year'))"
   ]
  },
  {
   "cell_type": "code",
   "execution_count": 47,
   "metadata": {},
   "outputs": [
    {
     "ename": "NameError",
     "evalue": "name 'exist1' is not defined",
     "output_type": "error",
     "traceback": [
      "\u001B[0;31m---------------------------------------------------------------------------\u001B[0m",
      "\u001B[0;31mNameError\u001B[0m                                 Traceback (most recent call last)",
      "\u001B[0;32m<ipython-input-47-d4f356296d0a>\u001B[0m in \u001B[0;36m<module>\u001B[0;34m\u001B[0m\n\u001B[1;32m     34\u001B[0m     \u001B[0mplt\u001B[0m\u001B[0;34m.\u001B[0m\u001B[0mylim\u001B[0m\u001B[0;34m(\u001B[0m\u001B[0;36m0\u001B[0m\u001B[0;34m,\u001B[0m \u001B[0mnp\u001B[0m\u001B[0;34m.\u001B[0m\u001B[0mmax\u001B[0m\u001B[0;34m(\u001B[0m\u001B[0mmedians\u001B[0m\u001B[0;34m)\u001B[0m\u001B[0;34m*\u001B[0m\u001B[0;36m2\u001B[0m\u001B[0;34m)\u001B[0m\u001B[0;34m\u001B[0m\u001B[0;34m\u001B[0m\u001B[0m\n\u001B[1;32m     35\u001B[0m     \u001B[0mplt\u001B[0m\u001B[0;34m.\u001B[0m\u001B[0mshow\u001B[0m\u001B[0;34m(\u001B[0m\u001B[0;34m)\u001B[0m\u001B[0;34m\u001B[0m\u001B[0;34m\u001B[0m\u001B[0m\n\u001B[0;32m---> 36\u001B[0;31m \u001B[0mbenchmark\u001B[0m\u001B[0;34m(\u001B[0m\u001B[0;34m{\u001B[0m\u001B[0;34m's1'\u001B[0m\u001B[0;34m:\u001B[0m\u001B[0mexist1\u001B[0m\u001B[0;34m,\u001B[0m\u001B[0;34m's2'\u001B[0m\u001B[0;34m:\u001B[0m\u001B[0mexist7000\u001B[0m\u001B[0;34m}\u001B[0m\u001B[0;34m)\u001B[0m\u001B[0;34m\u001B[0m\u001B[0;34m\u001B[0m\u001B[0m\n\u001B[0m",
      "\u001B[0;31mNameError\u001B[0m: name 'exist1' is not defined"
     ]
    }
   ],
   "source": [
    "\n",
    "def benchmark_thread(commands):\n",
    "    \"\"\"\n",
    "    Function to run run_nb times a list of command and display stats and boxplot\n",
    "    \"\"\"\n",
    "    \n",
    "    run_nb=10\n",
    "    run_times=[]\n",
    "    medians=[]\n",
    "    for command_idx,command_name in enumerate(commands):\n",
    "        run_time=[]\n",
    "        \n",
    "        for run in range(run_nb):\n",
    "            \n",
    "            start_time=time.time()\n",
    "            commands[command_name]()\n",
    "            end_time=time.time()\n",
    "            run_time.append(end_time-start_time)\n",
    "        \n",
    "        median=np.median(np.array(run_time))\n",
    "        std=np.std(np.array(run_time))\n",
    "        mean=np.mean(np.array(run_time))\n",
    "        print(\"---- \"+str(command_idx)+\": \"+command_name+\" ----\")\n",
    "        print('average time:'+str(mean)+'\\n median:'+str(median)+'\\n std:'+str(std))\n",
    "        run_times.append(run_time)\n",
    "        medians.append(median)\n",
    "   \n",
    "    plt.boxplot(run_times)\n",
    "    plt.ylim(0, np.max(medians)*2)\n",
    "    plt.show()\n",
    "benchmark({'s1':exist1,'s2':exist7000})"
   ]
  },
  {
   "cell_type": "code",
   "execution_count": 44,
   "metadata": {},
   "outputs": [
    {
     "name": "stderr",
     "output_type": "stream",
     "text": [
      "19:50:32: Main    : create and start thread 0.\n",
      "19:50:32: Thread 0: starting\n",
      "19:50:32: Main    : create and start thread 1.\n",
      "19:50:32: Thread 1: starting\n",
      "19:50:32: Main    : create and start thread 2.\n",
      "19:50:32: Thread 2: starting\n",
      "19:50:32: Main    : create and start thread 3.\n",
      "19:50:32: Thread 3: starting\n",
      "19:50:32: Main    : create and start thread 4.\n",
      "19:50:32: Thread 4: starting\n",
      "19:50:32: Main    : create and start thread 5.\n",
      "19:50:32: Thread 5: starting\n",
      "19:50:33: Main    : create and start thread 6.\n",
      "19:50:33: Thread 6: starting\n",
      "19:50:33: Main    : create and start thread 7.\n",
      "19:50:33: Thread 7: starting\n",
      "19:50:33: Main    : create and start thread 8.\n",
      "19:50:33: Thread 8: starting\n",
      "19:50:33: Main    : create and start thread 9.\n",
      "19:50:33: Thread 9: starting\n",
      "19:50:33: Main    : create and start thread 10.\n",
      "19:50:33: Thread 10: starting\n",
      "19:50:33: Main    : create and start thread 11.\n",
      "19:50:33: Thread 11: starting\n",
      "19:50:33: Main    : create and start thread 12.\n",
      "19:50:33: Thread 12: starting\n",
      "19:50:33: Main    : create and start thread 13.\n",
      "19:50:33: Thread 13: starting\n",
      "19:50:33: Main    : create and start thread 14.\n",
      "19:50:33: Thread 14: starting\n",
      "19:50:33: Main    : create and start thread 15.\n",
      "19:50:33: Thread 15: starting\n",
      "19:50:33: Main    : create and start thread 16.\n",
      "19:50:33: Thread 16: starting\n",
      "19:50:33: Main    : create and start thread 17.\n",
      "19:50:33: Thread 17: starting\n",
      "19:50:33: Main    : create and start thread 18.\n",
      "19:50:33: Thread 18: starting\n",
      "19:50:33: Main    : create and start thread 19.\n",
      "19:50:33: Thread 19: starting\n",
      "19:50:33: Main    : create and start thread 20.\n",
      "19:50:33: Thread 20: starting\n",
      "19:50:33: Main    : create and start thread 21.\n",
      "19:50:33: Thread 21: starting\n",
      "19:50:33: Main    : create and start thread 22.\n",
      "19:50:33: Thread 22: starting\n",
      "19:50:33: Main    : create and start thread 23.\n",
      "19:50:33: Thread 23: starting\n",
      "19:50:33: Main    : create and start thread 24.\n",
      "19:50:33: Thread 24: starting\n",
      "19:50:33: Main    : create and start thread 25.\n",
      "19:50:33: Thread 25: starting\n",
      "19:50:33: Main    : create and start thread 26.\n",
      "19:50:33: Thread 26: starting\n",
      "19:50:33: Main    : create and start thread 27.\n",
      "19:50:33: Thread 27: starting\n",
      "19:50:33: Main    : create and start thread 28.\n",
      "19:50:33: Thread 28: starting\n",
      "19:50:33: Main    : create and start thread 29.\n",
      "19:50:33: Thread 29: starting\n",
      "19:50:33: Main    : create and start thread 30.\n",
      "19:50:33: Thread 30: starting\n",
      "19:50:33: Main    : create and start thread 31.\n",
      "19:50:33: Thread 31: starting\n",
      "19:50:33: Main    : create and start thread 32.\n",
      "19:50:33: Thread 32: starting\n",
      "19:50:33: Main    : create and start thread 33.\n",
      "19:50:33: Thread 33: starting\n",
      "19:50:33: Main    : create and start thread 34.\n",
      "19:50:33: Thread 34: starting\n",
      "19:50:33: Main    : create and start thread 35.\n",
      "19:50:33: Thread 35: starting\n",
      "19:50:33: Main    : create and start thread 36.\n",
      "19:50:33: Thread 36: starting\n",
      "19:50:33: Main    : create and start thread 37.\n",
      "19:50:33: Thread 37: starting\n",
      "19:50:33: Main    : create and start thread 38.\n",
      "19:50:33: Thread 38: starting\n",
      "19:50:33: Main    : create and start thread 39.\n",
      "19:50:33: Thread 39: starting\n",
      "19:50:33: Main    : create and start thread 40.\n",
      "19:50:33: Thread 40: starting\n",
      "19:50:33: Main    : create and start thread 41.\n",
      "19:50:33: Thread 41: starting\n",
      "19:50:33: Main    : create and start thread 42.\n",
      "19:50:33: Thread 42: starting\n",
      "19:50:33: Main    : create and start thread 43.\n",
      "19:50:33: Thread 43: starting\n",
      "19:50:33: Main    : create and start thread 44.\n",
      "19:50:33: Thread 44: starting\n",
      "19:50:33: Main    : create and start thread 45.\n",
      "19:50:33: Thread 45: starting\n",
      "19:50:33: Main    : create and start thread 46.\n",
      "19:50:33: Thread 46: starting\n",
      "19:50:33: Main    : create and start thread 47.\n",
      "19:50:33: Thread 47: starting\n",
      "19:50:33: Main    : create and start thread 48.\n",
      "19:50:33: Thread 48: starting\n",
      "19:50:33: Main    : create and start thread 49.\n",
      "19:50:33: Thread 49: starting\n",
      "19:50:33: Main    : before joining thread 0.\n",
      "19:50:39: Thread 3: finishing\n",
      "19:50:39: Thread 9: finishing\n",
      "19:50:39: Thread 35: finishing\n",
      "19:50:39: Thread 11: finishing\n",
      "19:50:39: Thread 44: finishing\n",
      "19:50:39: Thread 46: finishing\n",
      "19:50:39: Thread 29: finishing\n",
      "19:50:39: Thread 1: finishing\n",
      "19:50:39: Thread 24: finishing\n",
      "19:50:39: Thread 8: finishing\n",
      "19:50:39: Thread 14: finishing\n",
      "19:50:39: Thread 45: finishing\n",
      "19:50:39: Thread 18: finishing\n",
      "19:50:39: Thread 31: finishing\n",
      "19:50:39: Thread 5: finishing\n",
      "19:50:39: Thread 41: finishing\n",
      "19:50:39: Thread 10: finishing\n",
      "19:50:39: Thread 30: finishing\n",
      "19:50:39: Thread 48: finishing\n",
      "19:50:39: Thread 15: finishing\n",
      "19:50:39: Thread 33: finishing\n",
      "19:50:39: Thread 16: finishing\n",
      "19:50:39: Thread 7: finishing\n",
      "19:50:39: Thread 22: finishing\n",
      "19:50:39: Thread 17: finishing\n",
      "19:50:39: Thread 0: finishing\n",
      "19:50:39: Thread 26: finishing\n",
      "19:50:39: Thread 19: finishing\n",
      "19:50:39: Thread 28: finishing\n",
      "19:50:39: Thread 36: finishing\n",
      "19:50:39: Thread 4: finishing\n",
      "19:50:39: Thread 43: finishing\n",
      "19:50:39: Thread 27: finishing\n",
      "19:50:39: Thread 47: finishing\n",
      "19:50:39: Thread 49: finishing\n",
      "19:50:39: Thread 12: finishing\n",
      "19:50:39: Thread 21: finishing\n",
      "19:50:39: Thread 39: finishing\n",
      "19:50:39: Thread 42: finishing\n",
      "19:50:39: Thread 34: finishing\n",
      "19:50:39: Thread 37: finishing\n",
      "19:50:39: Thread 2: finishing\n",
      "19:50:39: Main    : thread 0 done\n",
      "19:50:39: Thread 13: finishing\n",
      "19:50:39: Thread 6: finishing\n",
      "19:50:39: Thread 38: finishing\n",
      "19:50:39: Thread 23: finishing\n",
      "19:50:39: Thread 40: finishing\n",
      "19:50:39: Thread 20: finishing\n",
      "19:50:39: Thread 25: finishing\n",
      "19:50:39: Thread 32: finishing\n",
      "19:50:39: Main    : before joining thread 1.\n",
      "19:50:39: Main    : thread 1 done\n",
      "19:50:39: Main    : before joining thread 2.\n",
      "19:50:39: Main    : thread 2 done\n",
      "19:50:39: Main    : before joining thread 3.\n",
      "19:50:39: Main    : thread 3 done\n",
      "19:50:39: Main    : before joining thread 4.\n",
      "19:50:39: Main    : thread 4 done\n",
      "19:50:39: Main    : before joining thread 5.\n",
      "19:50:39: Main    : thread 5 done\n",
      "19:50:39: Main    : before joining thread 6.\n",
      "19:50:39: Main    : thread 6 done\n",
      "19:50:39: Main    : before joining thread 7.\n",
      "19:50:39: Main    : thread 7 done\n",
      "19:50:39: Main    : before joining thread 8.\n",
      "19:50:39: Main    : thread 8 done\n",
      "19:50:39: Main    : before joining thread 9.\n",
      "19:50:39: Main    : thread 9 done\n",
      "19:50:39: Main    : before joining thread 10.\n",
      "19:50:39: Main    : thread 10 done\n",
      "19:50:39: Main    : before joining thread 11.\n",
      "19:50:39: Main    : thread 11 done\n",
      "19:50:39: Main    : before joining thread 12.\n",
      "19:50:39: Main    : thread 12 done\n",
      "19:50:39: Main    : before joining thread 13.\n",
      "19:50:39: Main    : thread 13 done\n",
      "19:50:39: Main    : before joining thread 14.\n",
      "19:50:39: Main    : thread 14 done\n",
      "19:50:39: Main    : before joining thread 15.\n",
      "19:50:39: Main    : thread 15 done\n",
      "19:50:39: Main    : before joining thread 16.\n",
      "19:50:39: Main    : thread 16 done\n",
      "19:50:39: Main    : before joining thread 17.\n",
      "19:50:39: Main    : thread 17 done\n",
      "19:50:39: Main    : before joining thread 18.\n",
      "19:50:39: Main    : thread 18 done\n",
      "19:50:39: Main    : before joining thread 19.\n",
      "19:50:39: Main    : thread 19 done\n",
      "19:50:39: Main    : before joining thread 20.\n",
      "19:50:39: Main    : thread 20 done\n",
      "19:50:39: Main    : before joining thread 21.\n",
      "19:50:39: Main    : thread 21 done\n",
      "19:50:39: Main    : before joining thread 22.\n",
      "19:50:39: Main    : thread 22 done\n",
      "19:50:39: Main    : before joining thread 23.\n",
      "19:50:39: Main    : thread 23 done\n",
      "19:50:39: Main    : before joining thread 24.\n",
      "19:50:39: Main    : thread 24 done\n",
      "19:50:39: Main    : before joining thread 25.\n",
      "19:50:39: Main    : thread 25 done\n",
      "19:50:39: Main    : before joining thread 26.\n",
      "19:50:39: Main    : thread 26 done\n",
      "19:50:39: Main    : before joining thread 27.\n",
      "19:50:39: Main    : thread 27 done\n",
      "19:50:39: Main    : before joining thread 28.\n",
      "19:50:39: Main    : thread 28 done\n",
      "19:50:39: Main    : before joining thread 29.\n",
      "19:50:39: Main    : thread 29 done\n",
      "19:50:39: Main    : before joining thread 30.\n",
      "19:50:39: Main    : thread 30 done\n",
      "19:50:39: Main    : before joining thread 31.\n",
      "19:50:39: Main    : thread 31 done\n",
      "19:50:39: Main    : before joining thread 32.\n",
      "19:50:39: Main    : thread 32 done\n",
      "19:50:39: Main    : before joining thread 33.\n",
      "19:50:39: Main    : thread 33 done\n",
      "19:50:39: Main    : before joining thread 34.\n"
     ]
    },
    {
     "name": "stderr",
     "output_type": "stream",
     "text": [
      "19:50:39: Main    : thread 34 done\n",
      "19:50:39: Main    : before joining thread 35.\n",
      "19:50:39: Main    : thread 35 done\n",
      "19:50:39: Main    : before joining thread 36.\n",
      "19:50:39: Main    : thread 36 done\n",
      "19:50:39: Main    : before joining thread 37.\n",
      "19:50:39: Main    : thread 37 done\n",
      "19:50:39: Main    : before joining thread 38.\n",
      "19:50:39: Main    : thread 38 done\n",
      "19:50:39: Main    : before joining thread 39.\n",
      "19:50:39: Main    : thread 39 done\n",
      "19:50:39: Main    : before joining thread 40.\n",
      "19:50:39: Main    : thread 40 done\n",
      "19:50:39: Main    : before joining thread 41.\n",
      "19:50:39: Main    : thread 41 done\n",
      "19:50:39: Main    : before joining thread 42.\n",
      "19:50:39: Main    : thread 42 done\n",
      "19:50:39: Main    : before joining thread 43.\n",
      "19:50:39: Main    : thread 43 done\n",
      "19:50:39: Main    : before joining thread 44.\n",
      "19:50:39: Main    : thread 44 done\n",
      "19:50:39: Main    : before joining thread 45.\n",
      "19:50:39: Main    : thread 45 done\n",
      "19:50:39: Main    : before joining thread 46.\n",
      "19:50:39: Main    : thread 46 done\n",
      "19:50:39: Main    : before joining thread 47.\n",
      "19:50:39: Main    : thread 47 done\n",
      "19:50:39: Main    : before joining thread 48.\n",
      "19:50:39: Main    : thread 48 done\n",
      "19:50:39: Main    : before joining thread 49.\n",
      "19:50:39: Main    : thread 49 done\n"
     ]
    }
   ],
   "source": [
    "import logging\n",
    "import threading\n",
    "import time\n",
    "run_nb=1000\n",
    "client_nb=50\n",
    "\n",
    "\n",
    "def thread_function(name):\n",
    "    logging.info(\"Thread %s: starting\", name)\n",
    "    r = redis.Redis()\n",
    "    for i in range(run_nb):\n",
    "        r.hincrby(\"s7001\",\"release_year\")\n",
    "    logging.info(\"Thread %s: finishing\", name)\n",
    "\n",
    "\n",
    "threads = list()\n",
    "\n",
    "for index in range(client_nb):\n",
    "    logging.info(\"Main    : create and start thread %d.\", index)\n",
    "    x = threading.Thread(target=thread_function, args=(index,))\n",
    "    threads.append(x)\n",
    "    x.start()\n",
    "\n",
    "for index, thread in enumerate(threads):\n",
    "    logging.info(\"Main    : before joining thread %d.\", index)\n",
    "    thread.join()\n",
    "    logging.info(\"Main    : thread %d done\", index)"
   ]
  },
  {
   "cell_type": "code",
   "execution_count": 45,
   "metadata": {},
   "outputs": [
    {
     "name": "stdout",
     "output_type": "stream",
     "text": [
      "b'52021'\n"
     ]
    }
   ],
   "source": [
    "print(r.hget(\"s7001\",'release_year'))"
   ]
  },
  {
   "cell_type": "code",
   "execution_count": null,
   "metadata": {},
   "outputs": [],
   "source": []
  }
 ],
 "metadata": {
  "kernelspec": {
   "display_name": "Python 3",
   "language": "python",
   "name": "python3"
  },
  "language_info": {
   "codemirror_mode": {
    "name": "ipython",
    "version": 3
   },
   "file_extension": ".py",
   "mimetype": "text/x-python",
   "name": "python",
   "nbconvert_exporter": "python",
   "pygments_lexer": "ipython3",
   "version": "3.8.3"
  }
 },
 "nbformat": 4,
 "nbformat_minor": 4
}