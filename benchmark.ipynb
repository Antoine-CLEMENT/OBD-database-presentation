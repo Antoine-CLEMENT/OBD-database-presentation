{
 "cells": [
  {
   "cell_type": "markdown",
   "metadata": {},
   "source": [
    "# REDIS BENCHMARK"
   ]
  },
  {
   "cell_type": "markdown",
   "metadata": {},
   "source": [
    "## config REDIS"
   ]
  },
  {
   "cell_type": "code",
   "execution_count": 1,
   "metadata": {},
   "outputs": [
    {
     "data": {
      "text/plain": [
       "[]"
      ]
     },
     "execution_count": 1,
     "metadata": {},
     "output_type": "execute_result"
    }
   ],
   "source": [
    "#import redis\n",
    "import redis\n",
    "r = redis.Redis()\n",
    "#empties all previous keys\n",
    "r.flushall()\n",
    "#check there is no key anymore\n",
    "r.keys()"
   ]
  },
  {
   "cell_type": "markdown",
   "metadata": {},
   "source": [
    "## Import dataset in redis"
   ]
  },
  {
   "cell_type": "code",
   "execution_count": 2,
   "metadata": {},
   "outputs": [
    {
     "data": {
      "text/html": [
       "<div>\n",
       "<style scoped>\n",
       "    .dataframe tbody tr th:only-of-type {\n",
       "        vertical-align: middle;\n",
       "    }\n",
       "\n",
       "    .dataframe tbody tr th {\n",
       "        vertical-align: top;\n",
       "    }\n",
       "\n",
       "    .dataframe thead th {\n",
       "        text-align: right;\n",
       "    }\n",
       "</style>\n",
       "<table border=\"1\" class=\"dataframe\">\n",
       "  <thead>\n",
       "    <tr style=\"text-align: right;\">\n",
       "      <th></th>\n",
       "      <th>show_id</th>\n",
       "      <th>type</th>\n",
       "      <th>title</th>\n",
       "      <th>director</th>\n",
       "      <th>cast</th>\n",
       "      <th>country</th>\n",
       "      <th>date_added</th>\n",
       "      <th>release_year</th>\n",
       "      <th>rating</th>\n",
       "      <th>duration</th>\n",
       "      <th>listed_in</th>\n",
       "      <th>description</th>\n",
       "    </tr>\n",
       "  </thead>\n",
       "  <tbody>\n",
       "    <tr>\n",
       "      <th>0</th>\n",
       "      <td>s1</td>\n",
       "      <td>TV Show</td>\n",
       "      <td>3%</td>\n",
       "      <td>NaN</td>\n",
       "      <td>João Miguel, Bianca Comparato, Michel Gomes, R...</td>\n",
       "      <td>Brazil</td>\n",
       "      <td>August 14, 2020</td>\n",
       "      <td>2020</td>\n",
       "      <td>TV-MA</td>\n",
       "      <td>4 Seasons</td>\n",
       "      <td>International TV Shows, TV Dramas, TV Sci-Fi &amp;...</td>\n",
       "      <td>In a future where the elite inhabit an island ...</td>\n",
       "    </tr>\n",
       "    <tr>\n",
       "      <th>1</th>\n",
       "      <td>s2</td>\n",
       "      <td>Movie</td>\n",
       "      <td>7:19</td>\n",
       "      <td>Jorge Michel Grau</td>\n",
       "      <td>Demián Bichir, Héctor Bonilla, Oscar Serrano, ...</td>\n",
       "      <td>Mexico</td>\n",
       "      <td>December 23, 2016</td>\n",
       "      <td>2016</td>\n",
       "      <td>TV-MA</td>\n",
       "      <td>93 min</td>\n",
       "      <td>Dramas, International Movies</td>\n",
       "      <td>After a devastating earthquake hits Mexico Cit...</td>\n",
       "    </tr>\n",
       "    <tr>\n",
       "      <th>2</th>\n",
       "      <td>s3</td>\n",
       "      <td>Movie</td>\n",
       "      <td>23:59</td>\n",
       "      <td>Gilbert Chan</td>\n",
       "      <td>Tedd Chan, Stella Chung, Henley Hii, Lawrence ...</td>\n",
       "      <td>Singapore</td>\n",
       "      <td>December 20, 2018</td>\n",
       "      <td>2011</td>\n",
       "      <td>R</td>\n",
       "      <td>78 min</td>\n",
       "      <td>Horror Movies, International Movies</td>\n",
       "      <td>When an army recruit is found dead, his fellow...</td>\n",
       "    </tr>\n",
       "    <tr>\n",
       "      <th>3</th>\n",
       "      <td>s4</td>\n",
       "      <td>Movie</td>\n",
       "      <td>9</td>\n",
       "      <td>Shane Acker</td>\n",
       "      <td>Elijah Wood, John C. Reilly, Jennifer Connelly...</td>\n",
       "      <td>United States</td>\n",
       "      <td>November 16, 2017</td>\n",
       "      <td>2009</td>\n",
       "      <td>PG-13</td>\n",
       "      <td>80 min</td>\n",
       "      <td>Action &amp; Adventure, Independent Movies, Sci-Fi...</td>\n",
       "      <td>In a postapocalyptic world, rag-doll robots hi...</td>\n",
       "    </tr>\n",
       "    <tr>\n",
       "      <th>4</th>\n",
       "      <td>s5</td>\n",
       "      <td>Movie</td>\n",
       "      <td>21</td>\n",
       "      <td>Robert Luketic</td>\n",
       "      <td>Jim Sturgess, Kevin Spacey, Kate Bosworth, Aar...</td>\n",
       "      <td>United States</td>\n",
       "      <td>January 1, 2020</td>\n",
       "      <td>2008</td>\n",
       "      <td>PG-13</td>\n",
       "      <td>123 min</td>\n",
       "      <td>Dramas</td>\n",
       "      <td>A brilliant group of students become card-coun...</td>\n",
       "    </tr>\n",
       "  </tbody>\n",
       "</table>\n",
       "</div>"
      ],
      "text/plain": [
       "  show_id     type  title           director  \\\n",
       "0      s1  TV Show     3%                NaN   \n",
       "1      s2    Movie   7:19  Jorge Michel Grau   \n",
       "2      s3    Movie  23:59       Gilbert Chan   \n",
       "3      s4    Movie      9        Shane Acker   \n",
       "4      s5    Movie     21     Robert Luketic   \n",
       "\n",
       "                                                cast        country  \\\n",
       "0  João Miguel, Bianca Comparato, Michel Gomes, R...         Brazil   \n",
       "1  Demián Bichir, Héctor Bonilla, Oscar Serrano, ...         Mexico   \n",
       "2  Tedd Chan, Stella Chung, Henley Hii, Lawrence ...      Singapore   \n",
       "3  Elijah Wood, John C. Reilly, Jennifer Connelly...  United States   \n",
       "4  Jim Sturgess, Kevin Spacey, Kate Bosworth, Aar...  United States   \n",
       "\n",
       "          date_added  release_year rating   duration  \\\n",
       "0    August 14, 2020          2020  TV-MA  4 Seasons   \n",
       "1  December 23, 2016          2016  TV-MA     93 min   \n",
       "2  December 20, 2018          2011      R     78 min   \n",
       "3  November 16, 2017          2009  PG-13     80 min   \n",
       "4    January 1, 2020          2008  PG-13    123 min   \n",
       "\n",
       "                                           listed_in  \\\n",
       "0  International TV Shows, TV Dramas, TV Sci-Fi &...   \n",
       "1                       Dramas, International Movies   \n",
       "2                Horror Movies, International Movies   \n",
       "3  Action & Adventure, Independent Movies, Sci-Fi...   \n",
       "4                                             Dramas   \n",
       "\n",
       "                                         description  \n",
       "0  In a future where the elite inhabit an island ...  \n",
       "1  After a devastating earthquake hits Mexico Cit...  \n",
       "2  When an army recruit is found dead, his fellow...  \n",
       "3  In a postapocalyptic world, rag-doll robots hi...  \n",
       "4  A brilliant group of students become card-coun...  "
      ]
     },
     "execution_count": 2,
     "metadata": {},
     "output_type": "execute_result"
    }
   ],
   "source": [
    "# import dataset\n",
    "import pandas as pd\n",
    "df = pd.read_csv(\"netflix_titles.csv\")\n",
    "df.head()\n"
   ]
  },
  {
   "cell_type": "code",
   "execution_count": 3,
   "metadata": {},
   "outputs": [
    {
     "name": "stderr",
     "output_type": "stream",
     "text": [
      "<ipython-input-3-e0ba77c3f72e>:3: DeprecationWarning: Pipeline.hmset() is deprecated. Use Pipeline.hset() instead.\n",
      "  pipe.hmset(row.show_id,row.to_dict())\n"
     ]
    }
   ],
   "source": [
    "with r.pipeline() as pipe:\n",
    "    for index, row in df.iterrows():\n",
    "        pipe.hmset(row.show_id,row.to_dict())\n",
    "    pipe.execute()\n"
   ]
  },
  {
   "cell_type": "markdown",
   "metadata": {},
   "source": [
    "## Benchmark function"
   ]
  },
  {
   "cell_type": "code",
   "execution_count": 25,
   "metadata": {},
   "outputs": [],
   "source": [
    "import time \n",
    "import matplotlib.pyplot as plt \n",
    "import numpy as np \n",
    "\n",
    "\n",
    "def benchmark(commands):\n",
    "    \"\"\"\n",
    "    Function to run run_nb times a list of command and display stats and boxplot\n",
    "    \"\"\"\n",
    "    run_nb=10\n",
    "    run_times=[]\n",
    "    medians=[]\n",
    "    for command_idx,command_name in enumerate(commands):\n",
    "        run_time=[]\n",
    "        for run in range(run_nb):\n",
    "            start_time=time.time()\n",
    "            commands[command_name]()\n",
    "            end_time=time.time()\n",
    "            run_time.append(end_time-start_time)\n",
    "        \n",
    "        median=np.median(np.array(run_time))\n",
    "        std=np.std(np.array(run_time))\n",
    "        mean=np.mean(np.array(run_time))\n",
    "        print(\"---- \"+str(command_idx)+\": \"+command_name+\" ----\")\n",
    "        print('average time:'+str(mean)+'\\n median:'+str(median)+'\\n std:'+str(std))\n",
    "        run_times.append(run_time)\n",
    "        medians.append(median)\n",
    "   \n",
    "    plt.boxplot(run_times)\n",
    "    plt.ylim(0, np.max(medians)*2)\n",
    "    plt.show()\n",
    "\n",
    "\n"
   ]
  },
  {
   "cell_type": "markdown",
   "metadata": {},
   "source": [
    "## Get a whole line"
   ]
  },
  {
   "cell_type": "code",
   "execution_count": 220,
   "metadata": {},
   "outputs": [
    {
     "name": "stdout",
     "output_type": "stream",
     "text": [
      "---- 0: hget same line ----\n",
      "average time:0.0002897146224975586\n",
      " median:0.00024509429931640625\n",
      " std:0.0004439781112290251\n",
      "---- 1: hget random line ----\n",
      "average time:0.00026602911949157715\n",
      " median:0.0002529621124267578\n",
      " std:0.00017940224462143872\n"
     ]
    },
    {
     "data": {
      "image/png": "[encoded data removed]",
      "text/plain": [
       "<Figure size 432x288 with 1 Axes>"
      ]
     },
     "metadata": {
      "needs_background": "light"
     },
     "output_type": "display_data"
    }
   ],
   "source": [
    "import random\n",
    "\n",
    "def hgetall():\n",
    "    r.hgetall('s7392')\n",
    "    \n",
    "\n",
    "def hgetallrandom():\n",
    "    i=random.randint(1,7787)\n",
    "    r.hgetall('s'+str(i))\n",
    "\n",
    "benchmark({'hget same line':hgetall,'hget random line':hgetallrandom})\n",
    "\n"
   ]
  },
  {
   "cell_type": "markdown",
   "metadata": {},
   "source": [
    "### With pipeline?"
   ]
  },
  {
   "cell_type": "code",
   "execution_count": 202,
   "metadata": {},
   "outputs": [
    {
     "name": "stdout",
     "output_type": "stream",
     "text": [
      "0.0002807837963104248\n"
     ]
    }
   ],
   "source": [
    "\n",
    "run_nb=1\n",
    "batch=10000\n",
    "start_time=time.time()\n",
    "for run in range (run_nb):\n",
    "    with r.pipeline() as pipe:\n",
    "        for i in range(batch):\n",
    "            r.hgetall('s7392')\n",
    "        pipe.execute()\n",
    "        \n",
    "mean=(time.time()-start_time)/(run_nb*batch)\n",
    "\n",
    "print(mean)"
   ]
  },
  {
   "cell_type": "markdown",
   "metadata": {},
   "source": [
    "## get show id"
   ]
  },
  {
   "cell_type": "code",
   "execution_count": 221,
   "metadata": {},
   "outputs": [
    {
     "name": "stdout",
     "output_type": "stream",
     "text": [
      "---- 0: get s1 ----\n",
      "average time:0.00015975871086120605\n",
      " median:0.00011968612670898438\n",
      " std:0.000497947532219968\n",
      "---- 1: get s4000 ----\n",
      "average time:0.00011732738018035888\n",
      " median:0.00011110305786132812\n",
      " std:0.00018866653273962524\n",
      "---- 2: get s7000 ----\n",
      "average time:0.00011274054050445557\n",
      " median:0.00011110305786132812\n",
      " std:4.605054127215788e-05\n"
     ]
    },
    {
     "data": {
      "image/png": "[encoded data removed]",
      "text/plain": [
       "<Figure size 432x288 with 1 Axes>"
      ]
     },
     "metadata": {
      "needs_background": "light"
     },
     "output_type": "display_data"
    }
   ],
   "source": [
    "def hmget1():\n",
    "    r.hmget('s1','show_id')\n",
    "def hmget4000():\n",
    "    r.hmget('s4000','show_id')\n",
    "def hmget7000():\n",
    "    r.hmget('s7000','show_id')\n",
    "\n",
    "benchmark({'get s1':hmget1,'get s4000':hmget4000,'get s7000':hmget7000})"
   ]
  },
  {
   "cell_type": "markdown",
   "metadata": {},
   "source": [
    "## Set a line"
   ]
  },
  {
   "cell_type": "code",
   "execution_count": 222,
   "metadata": {},
   "outputs": [
    {
     "name": "stderr",
     "output_type": "stream",
     "text": [
      "<ipython-input-222-52aa2a8b906d>:2: DeprecationWarning: Redis.hmset() is deprecated. Use Redis.hset() instead.\n",
      "  r.hmset('test',next(df.iterrows())[1].to_dict())\n"
     ]
    },
    {
     "name": "stdout",
     "output_type": "stream",
     "text": [
      "---- 0: hmset ----\n",
      "average time:0.003097118258476257\n",
      " median:0.002730131149291992\n",
      " std:0.001903121778900204\n"
     ]
    },
    {
     "data": {
      "image/png": "[encoded data removed]",
      "text/plain": [
       "<Figure size 432x288 with 1 Axes>"
      ]
     },
     "metadata": {
      "needs_background": "light"
     },
     "output_type": "display_data"
    }
   ],
   "source": [
    "\n",
    "def hmset():\n",
    "        r.hmset('test',next(df.iterrows())[1].to_dict())\n",
    "benchmark({'hmset':hmset})\n",
    "#r.keys()"
   ]
  },
  {
   "cell_type": "markdown",
   "metadata": {},
   "source": [
    "## With Pipeline?"
   ]
  },
  {
   "cell_type": "code",
   "execution_count": 223,
   "metadata": {},
   "outputs": [
    {
     "name": "stderr",
     "output_type": "stream",
     "text": [
      "<ipython-input-223-ed277b0f8646>:7: DeprecationWarning: Redis.hmset() is deprecated. Use Redis.hset() instead.\n",
      "  r.hmset('test',next(df.iterrows())[1].to_dict())\n"
     ]
    },
    {
     "name": "stdout",
     "output_type": "stream",
     "text": [
      "0.003294803190231323\n"
     ]
    }
   ],
   "source": [
    "\n",
    "run_nb=10\n",
    "batch=1000\n",
    "start_time=time.time()\n",
    "for run in range (run_nb):\n",
    "    with r.pipeline() as pipe:\n",
    "        for i in range(batch):\n",
    "            r.hmset('test',next(df.iterrows())[1].to_dict())\n",
    "        pipe.execute()\n",
    "        \n",
    "mean=(time.time()-start_time)/(run_nb*batch)\n",
    "\n",
    "print(mean)"
   ]
  },
  {
   "cell_type": "markdown",
   "metadata": {},
   "source": [
    "## Key exist? "
   ]
  },
  {
   "cell_type": "code",
   "execution_count": 234,
   "metadata": {},
   "outputs": [
    {
     "name": "stdout",
     "output_type": "stream",
     "text": [
      "---- 0: s1 ----\n",
      "average time:0.00011410486698150635\n",
      " median:0.00010514259338378906\n",
      " std:0.00019099110691141722\n",
      "---- 1: s2 ----\n",
      "average time:0.00011372113227844238\n",
      " median:0.00010585784912109375\n",
      " std:0.00017878320408278416\n"
     ]
    },
    {
     "data": {
      "image/png": "[encoded data removed]",
      "text/plain": [
       "<Figure size 432x288 with 1 Axes>"
      ]
     },
     "metadata": {
      "needs_background": "light"
     },
     "output_type": "display_data"
    }
   ],
   "source": [
    "def exist1():\n",
    "    r.exists('s1')\n",
    "def exist7000():\n",
    "    r.exists('s7000')\n",
    "    \n",
    "benchmark({'s1':exist1,'s2':exist7000})"
   ]
  },
  {
   "cell_type": "code",
   "execution_count": 28,
   "metadata": {},
   "outputs": [
    {
     "name": "stdout",
     "output_type": "stream",
     "text": [
      "---- 0: dir exists head ----\n",
      "average time:0.013657450675964355\n",
      " median:0.013638496398925781\n",
      " std:6.778783605358226e-05\n",
      "---- 1: dir exists middle ----\n",
      "average time:0.7916579961776733\n",
      " median:0.7816815376281738\n",
      " std:0.1712431692528849\n",
      "---- 2: dir exists end ----\n",
      "average time:1.1323033094406127\n",
      " median:1.0897819995880127\n",
      " std:0.2319951023829614\n"
     ]
    },
    {
     "data": {
      "image/png": "[encoded data removed]",
      "text/plain": [
       "<Figure size 432x288 with 1 Axes>"
      ]
     },
     "metadata": {
      "needs_background": "light"
     },
     "output_type": "display_data"
    }
   ],
   "source": [
    "def director_exists_head():\n",
    "    i=0\n",
    "    for show_id in r.scan_iter():\n",
    "        i+=1\n",
    "        if (r.hget(show_id,'director')==b'David Raynr'):\n",
    "            return\n",
    "            \n",
    "def director_exists_middle():\n",
    "    i=0\n",
    "    for show_id in r.scan_iter():\n",
    "        i+=1\n",
    "        if (r.hget(show_id,'director')==b'Lance Daly'):\n",
    "            return\n",
    "            \n",
    "def director_exists_end():\n",
    "    i=0\n",
    "    for show_id in r.scan_iter():\n",
    "        i+=1\n",
    "        if (r.hget(show_id,'director')==b'Emma Hatherley'):\n",
    "            return\n",
    "            \n",
    "director_exists_head()\n",
    "director_exists_middle()\n",
    "director_exists_end()\n",
    "\n",
    "benchmark({'dir exists head':director_exists_head,'dir exists middle':director_exists_middle,'dir exists end':director_exists_end})\n"
   ]
  },
  {
   "cell_type": "markdown",
   "metadata": {},
   "source": [
    "## INCRBY\n"
   ]
  },
  {
   "cell_type": "code",
   "execution_count": 33,
   "metadata": {},
   "outputs": [
    {
     "name": "stdout",
     "output_type": "stream",
     "text": [
      "b'2015'\n",
      "b'2015'\n"
     ]
    }
   ],
   "source": [
    "print(r.hget(\"s7000\",'release_year'))\n",
    "r.incrbyfloat(\"s7000:release_year\",100)\n",
    "print(r.hget(\"s7000\",'release_year'))"
   ]
  },
  {
   "cell_type": "code",
   "execution_count": 35,
   "metadata": {},
   "outputs": [
    {
     "name": "stderr",
     "output_type": "stream",
     "text": [
      "19:18:28: Main    : create and start thread 0.\n",
      "19:18:28: Thread 0: starting\n",
      "19:18:28: Main    : create and start thread 1.\n",
      "19:18:28: Thread 1: starting\n",
      "19:18:28: Main    : create and start thread 2.\n",
      "19:18:28: Thread 2: starting\n",
      "19:18:28: Main    : before joining thread 0.\n",
      "19:18:30: Thread 0: finishing\n",
      "19:18:30: Main    : thread 0 done\n",
      "19:18:30: Main    : before joining thread 1.\n",
      "19:18:30: Thread 1: finishing\n",
      "19:18:30: Main    : thread 1 done\n",
      "19:18:30: Main    : before joining thread 2.\n",
      "19:18:30: Thread 2: finishing\n",
      "19:18:30: Main    : thread 2 done\n"
     ]
    }
   ],
   "source": [
    "import logging\n",
    "import threading\n",
    "import time\n",
    "run_nb=1000\n",
    "def thread_function(name):\n",
    "    logging.info(\"Thread %s: starting\", name)\n",
    "    r = redis.Redis()\n",
    "    for i in range()\n",
    "    logging.info(\"Thread %s: finishing\", name)\n",
    "\n",
    "\n",
    "threads = list()\n",
    "\n",
    "for index in range(50):\n",
    "    logging.info(\"Main    : create and start thread %d.\", index)\n",
    "    x = threading.Thread(target=thread_function, args=(index,))\n",
    "    threads.append(x)\n",
    "    x.start()\n",
    "\n",
    "for index, thread in enumerate(threads):\n",
    "    logging.info(\"Main    : before joining thread %d.\", index)\n",
    "    thread.join()\n",
    "    logging.info(\"Main    : thread %d done\", index)"
   ]
  },
  {
   "cell_type": "code",
   "execution_count": null,
   "metadata": {},
   "outputs": [],
   "source": []
  }
 ],
 "metadata": {
  "kernelspec": {
   "display_name": "Python 3",
   "language": "python",
   "name": "python3"
  },
  "language_info": {
   "codemirror_mode": {
    "name": "ipython",
    "version": 3
   },
   "file_extension": ".py",
   "mimetype": "text/x-python",
   "name": "python",
   "nbconvert_exporter": "python",
   "pygments_lexer": "ipython3",
   "version": "3.8.3"
  }
 },
 "nbformat": 4,
 "nbformat_minor": 4
}
